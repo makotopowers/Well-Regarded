{
 "cells": [
  {
   "cell_type": "markdown",
   "metadata": {},
   "source": [
    "# Rules \n",
    "- Each player starts with a full deck of cards with Jokers, shuffled.\n",
    "- Players place cards until "
   ]
  },
  {
   "cell_type": "markdown",
   "metadata": {},
   "source": [
    "# Ideas\n",
    "\n",
    "- \"Value\" of current hand as a function of the current made hand, draws, hero and villian cards remaining, hero and villian tricks won, Jokers remaining. \n",
    "    - Include weighted combination of \"closeness\" to certain hands -- less cards is better and weight should be higher for better hands (how do we parameterize this?)\n",
    "- Policy iteration to find the optimal strategy for the hero to get to certain end game states, which can be solved by dynamic programming.\n",
    "- Notes from 5/8 on value of a state\n",
    "    - Weighted combination of the following heuristics\n",
    "        - Remaining cards in stack\n",
    "        - \"Closeness\" to each 5 card hand (weighted by the strength of the particular hand)\n",
    "        - Jokers remaining\n",
    "        - Tricks won"
   ]
  },
  {
   "cell_type": "markdown",
   "metadata": {},
   "source": []
  }
 ],
 "metadata": {
  "language_info": {
   "name": "python"
  }
 },
 "nbformat": 4,
 "nbformat_minor": 2
}
