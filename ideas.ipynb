{
 "cells": [
  {
   "cell_type": "markdown",
   "metadata": {},
   "source": [
    "# Rules \n",
    "- Each player starts with a full deck of cards with Jokers, shuffled.\n",
    "- Players place cards until "
   ]
  },
  {
   "cell_type": "markdown",
   "metadata": {},
   "source": [
    "# Ideas\n",
    "\n",
    "- \"Value\" of current hand as a function of the current made hand, draws, hero and villian cards remaining, hero and villian tricks won, Jokers remaining. \n",
    "- Policy iteration to find the optimal strategy for the hero to get to certain end game states, which can be solved by dynamic programming."
   ]
  },
  {
   "cell_type": "markdown",
   "metadata": {},
   "source": []
  }
 ],
 "metadata": {
  "language_info": {
   "name": "python"
  }
 },
 "nbformat": 4,
 "nbformat_minor": 2
}
