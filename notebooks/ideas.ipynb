{
    "cells": [
        {
            "cell_type": "markdown",
            "metadata": {},
            "source": [
                "# Rules \n",
                "- Each player starts with a full deck of cards with Jokers, shuffled.\n",
                "- One round is as follows: \n",
                "    - Players each place one card. \n",
                "    - Whoever is behind can choose to play or fold the trick to the other person.\n",
                "- The first to 5 tricks wins the game. "
            ]
        },
        {
            "cell_type": "markdown",
            "metadata": {},
            "source": [
                "## Assumptions for model \n",
                "\n",
                "- If a player decides to play, they will play until the have a better hand than the opponent or run out of cards.\n",
                "- Player does not remember the cards that have been played, except for jokers."
            ]
        },
        {
            "cell_type": "markdown",
            "metadata": {},
            "source": [
                "# MCTS Implementation\n",
                "\n",
                "- One iteration of MCTS is as follows:\n",
                "    - First card played for each player. \n",
                "    - Simulate the $\\delta$ for the situation. Then, choice node over playable $\\delta$. If the simulation is below the choice, play, if not fold. \n",
                "    - Store the $\\delta$ chosen, as well as the game state at the time of the choice, and the game state after the choice.\n",
                "    - it is now the other player's turn with the new game state. \n",
                "        - Question: is it a fair assumption to say that the cards on the board do not matter, just the amount of cards it would take to beat the other players hand?\n",
                "        - If so, then the new game state if player1 plays is just the old game state with the number of cards left removed and jokers removed appropriately.\n",
                "            - Might need to run GTO tacs here (if player1 plays, is it optimal for player2 to play, and in that case are you in a better situation than if you folded?)\n",
                "        - Thinking this is yes.\n",
                "    - Once an end state is reached, backpropagate the result by updating a value function (table mapping state, delta to value) \n",
                "        - When propogating back up, states should send back the maximum value of the $\\delta$ choices.\n",
                "\n",
                "- Run this for a while. Then there should be a lookup table of states and deltas to probability of winning. An optimal strategy can then be constructed from these. "
            ]
        },
        {
            "cell_type": "markdown",
            "metadata": {},
            "source": [
                "# Experiments Example\n",
                "We plan to use the heuristic of a \"card $\\delta$\" which is the number of extra cards a player must put down to win a trick. We thus must be able to evaluate states by simulating the number of cards it will take for our current hand to beat the opponent's hand. \n",
                "## Example 1: A vs 2\n",
                "Player 1 has an A played, and player 2 has a 2 played. Both players have the other 53 cards available. How many cards does player 2 need to put down to win the trick? When playing in real life, it seems like a poor decision for player 2 to play. However, we see that actually player 2 only needs to put down 3 cards on average to win the trick. \n",
                "\n",
                "Let $X$ be the number of cards player 2 needs to put down to win the trick. We can calculate the distribution of $X$.\n",
                "$$\\text{P}(X = 1) = \\frac{9}{53} = 0.170 \\quad \\text{(3 2s, 4 Aces, 2 Jokers)}$$\n",
                "$$\\text{P}(X = 2) = \\frac{44}{53}\\cdot \\frac{12}{52} = 0.192 \\quad \\text{(one of 44 dead cards first, then one of 3 2s, 4 Aces, 2 Jokers)}$$\n",
                "$$\\text{P}(X = 3) = \\frac{44}{53}\\cdot \\frac{40}{52}\\cdot \\frac{15}{51} = 0.188$$ \n",
                "\n",
                "and so on. We see that the simulated distribution of $X$ (shown below) perfectly matches the theoretical distribution.\n"
            ]
        },
        {
            "cell_type": "code",
            "execution_count": null,
            "metadata": {},
            "outputs": [],
            "source": [
                "import matplotlib.pyplot as plt\n",
                "# plot ./data/results.txt \n",
                "\n",
                "# set spines and ticks to white \n",
                "plt.rcParams['axes.edgecolor'] = 'white'\n",
                "plt.rcParams['axes.linewidth'] = 0.5\n",
                "plt.rcParams['xtick.color'] = 'white'\n",
                "plt.rcParams['ytick.color'] = 'white'\n",
                "plt.rcParams['xtick.labelsize'] = 15\n",
                "plt.rcParams['ytick.labelsize'] = 15\n",
                "#set title nad axes labels to white\n",
                "plt.rcParams['axes.labelcolor'] = 'white'\n",
                "plt.rcParams['axes.titlesize'] = 15\n",
                "plt.rcParams['axes.labelsize'] = 15\n",
                "plt.rcParams['axes.titlecolor'] = 'white'\n",
                "\n",
                "\n",
                "def plot_results():\n",
                "    with open('./data/results.txt', 'r') as f:\n",
                "        lines = f.readlines()\n",
                "        y = [float(line) for line in lines]\n",
                "        cumsum = sum(y)\n",
                "        y = [e / cumsum for e in y]\n",
                "\n",
                "        x = list(range(len(y)))\n",
                "        plt.figure(figsize=(15, 10))\n",
                "        plt.plot(x[:13], y[:13])\n",
                "        # add dots and labels for the first 10 points\n",
                "        for i in range(13):\n",
                "            plt.scatter(x[i], y[i], color='red')\n",
                "            plt.text(x[i], y[i], f'{y[i]:.3f}', fontsize=12)\n",
                "        # grid on with spacing 0.01 in y axis\n",
                "        plt.grid()\n",
                "        #set grid ticks to 0.01\n",
                "        plt.yticks([i/100 for i in range(0, 21, 1)])\n",
                "        plt.xticks([i for i in range(0, 13, 1)])\n",
                "\n",
                "        \n",
                "        plt.xlabel('X')\n",
                "        plt.ylabel('P($X$)')\n",
                "        plt.title('Probability of a 2 beating an A in $X$ tries')\n",
                "        \n",
                "        plt.show()\n",
                "\n",
                "def plot_bar():\n",
                "    with open('../data/results.txt', 'r') as f:\n",
                "        lines = f.readlines()\n",
                "        y = [float(line) for line in lines]\n",
                "        cumsum = sum(y)\n",
                "        y = [e / cumsum for e in y]\n",
                "\n",
                "        x = list(range(len(y)))\n",
                "        plt.figure(figsize=(15, 10))\n",
                "        plt.bar(x[1:13], y[1:13])\n",
                "        # add dots and labels for the first 10 points\n",
                "        for i in range(1,13):\n",
                "            plt.text(x[i]-0.3, y[i]+0.001, f'{y[i]:.3f}', fontsize=12)\n",
                "        # grid on with spacing 0.01 in y axis\n",
                "        plt.grid()\n",
                "        #set grid ticks to 0.01\n",
                "        plt.yticks([i/100 for i in range(0, 21, 1)])\n",
                "        plt.xticks([i for i in range(0, 13, 1)])\n",
                "\n",
                "        \n",
                "        plt.xlabel('X')\n",
                "        plt.ylabel('P($X$)')\n",
                "        plt.title('Probability of a 2 beating an A in $X$ tries')\n",
                "        \n",
                "        plt.show()\n",
                "\n",
                "if __name__ == '__main__':\n",
                "    plot_bar()"
            ]
        },
        {
            "cell_type": "markdown",
            "metadata": {},
            "source": [
                "## A better notion of the card $\\delta$\n",
                "It is not enough to simulate the number of cards needed to win a trick. Consider a situation where player 1 can play $x$ cards to win a trick. If this is a small number, we might think that it would be good to play. However, after player 1 plays those $x$ cards, if player 2 can play $x-1$ cards to retake the lead, then player 1 is back to a losing state, and has put down an extra card. Sometimes this might be good, for example if player 1 has a lot of cards left, and player 2 has few cards and player 1 wants to exhaust player 2's cards. However in general this would not be a good play and we want to consider these situations. \n",
                "\n",
                "The solution to this is to calculate $\\delta_1$ the expected number of cards needed to be in the lead, and also $\\delta_2$ the number of cards the opponent needs to play to retake the lead. If the difference $\\delta_2 - \\delta_1$ is positive, the opponent will need to play more cards than us to retake the lead. Thus we can win the trick in $\\delta_1$ cards, or we will have gained a stack size on the opponent if they play. "
            ]
        },
        {
            "cell_type": "markdown",
            "metadata": {},
            "source": [
                "# Other Ideas\n",
                "\n",
                "- \"Value\" of current hand as a function of the current made hand, draws, hero and villian cards remaining, hero and villian tricks won, Jokers remaining. \n",
                "    - Include weighted combination of \"closeness\" to certain hands -- less cards is better and weight should be higher for better hands (how do we parameterize this?)\n",
                "- Policy iteration to find the optimal strategy for the hero to get to certain end game states, which can be solved by dynamic programming.\n",
                "- Notes from 5/8 on value of a state\n",
                "    - Weighted combination of the following heuristics\n",
                "        - Remaining cards in stack\n",
                "        - \"Closeness\" to each 5 card hand (weighted by the strength of the particular hand)\n",
                "        - Jokers remaining\n",
                "        - Tricks won"
            ]
        },
        {
            "cell_type": "markdown",
            "metadata": {},
            "source": []
        }
    ],
    "metadata": {
        "kernelspec": {
            "display_name": "base",
            "language": "python",
            "name": "python3"
        },
        "language_info": {
            "codemirror_mode": {
                "name": "ipython",
                "version": 3
            },
            "file_extension": ".py",
            "mimetype": "text/x-python",
            "name": "python",
            "nbconvert_exporter": "python",
            "pygments_lexer": "ipython3",
            "version": "3.9.7"
        }
    },
    "nbformat": 4,
    "nbformat_minor": 2
}
